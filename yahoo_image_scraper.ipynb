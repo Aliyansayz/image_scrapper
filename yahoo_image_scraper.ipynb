{
  "nbformat": 4,
  "nbformat_minor": 0,
  "metadata": {
    "colab": {
      "provenance": [],
      "authorship_tag": "ABX9TyP5iJgJuWK+sm3LqlS2aOmS",
      "include_colab_link": true
    },
    "kernelspec": {
      "name": "python3",
      "display_name": "Python 3"
    },
    "language_info": {
      "name": "python"
    }
  },
  "cells": [
    {
      "cell_type": "markdown",
      "metadata": {
        "id": "view-in-github",
        "colab_type": "text"
      },
      "source": [
        "<a href=\"https://colab.research.google.com/gist/Aliyansayz/22a39011f55c4176e61bd8b675ef46af/yahoo_image_scraper.ipynb\" target=\"_parent\"><img src=\"https://colab.research.google.com/assets/colab-badge.svg\" alt=\"Open In Colab\"/></a>"
      ]
    },
    {
      "cell_type": "markdown",
      "source": [
        "# Yahoo Image Scrapper "
      ],
      "metadata": {
        "id": "EOHnOGmAbeZ8"
      }
    },
    {
      "cell_type": "code",
      "source": [
        "import requests\n",
        "from bs4 import BeautifulSoup\n",
        "import pandas as pd"
      ],
      "metadata": {
        "id": "SpaTRtui0OqQ"
      },
      "execution_count": 6,
      "outputs": []
    },
    {
      "cell_type": "code",
      "source": [
        "yahoo_image_scraper(query=\"IBM Logo\", market_type =\"Electronic Component\" , num_of_images=None  )"
      ],
      "metadata": {
        "id": "BHdKeVPnaI81"
      },
      "execution_count": 106,
      "outputs": []
    },
    {
      "cell_type": "code",
      "source": [
        "\n",
        "def yahoo_image_scraper(query=\"\", market_type =None , num_of_images=None ):\n",
        "  query_in = query.replace(\" \" , \"%20\")\n",
        "\n",
        "  url = f\"https://images.search.yahoo.com/search/images;_ylt=AwrFFSlL455j5Usa01iJzbkF;_ylu=c2xrA3RleHQEaXQDQWxzb1RyeV9OBHNlYwNyZWwEcG9zAzM-?p={query_in}&fr2=p:s,v:i,m:rs-top,ct:bing,rgn:top,pos:3&fr=yfp-t\"\n",
        "  page = requests.get(url)\n",
        "\n",
        "  soup = BeautifulSoup(page.content , 'html.parser')\n",
        "\n",
        "\n",
        "  image_id = soup.find(id=\"sres\")\n",
        "  list_items = image_id.findChildren('img')  \n",
        "\n",
        "\n",
        "  if not num_of_images :\n",
        "    limit = 2\n",
        "  \n",
        "  elif num_of_images > 8 :\n",
        "    limit = 8\n",
        "\n",
        "  else:\n",
        "    limit = num_of_images-1\n",
        "\n",
        "\n",
        "  img_url = []\n",
        "\n",
        "  for i , _ in enumerate(list_items):\n",
        "          if i > limit:           \n",
        "            break\n",
        "\n",
        "          else:\n",
        "\n",
        "            try:\n",
        "                  img_url.append(list_items[i]['src'])\n",
        "\n",
        "            except:\n",
        "                  img_url.append(list_items[i]['data-src'])\n",
        "\n",
        "\n",
        "\n",
        "  for i, data in enumerate(img_url) : \n",
        "    img_data = requests.get(data).content\n",
        "    with open(f'{query}_{market_type}_{i}.jpg', 'wb') as handler:\n",
        "        handler.write(img_data)"
      ],
      "metadata": {
        "id": "D0ZSxi030Z7e"
      },
      "execution_count": 107,
      "outputs": []
    },
    {
      "cell_type": "markdown",
      "source": [
        "# Archived"
      ],
      "metadata": {
        "id": "wdjGTRzUbUx6"
      }
    },
    {
      "cell_type": "code",
      "source": [
        "query = \"\"\n",
        "\n",
        "\"https://images.search.yahoo.com/search/images;_ylt=AwrFFSlL455j5Usa01iJzbkF;_ylu=c2xrA3RleHQEaXQDQWxzb1RyeV9OBHNlYwNyZWwEcG9zAzM-?p=Redbull%20Logo&fr2=p:s,v:i,m:rs-top,ct:bing,rgn:top,pos:3&fr=yfp-t\""
      ],
      "metadata": {
        "id": "AQNUN5ZpqV-q"
      },
      "execution_count": null,
      "outputs": []
    },
    {
      "cell_type": "code",
      "source": [
        "url_img = \"https://tse4.mm.bing.net/th?id=OIP.waDreKYe4qcW9CGZ5Vfd7gHaFM&pid=Api&P=0\"\n",
        "\n",
        "\n",
        "\n",
        "import requests\n",
        "\n",
        "\n",
        "img_data = requests.get(url_img).content\n",
        "with open('image_name.jpg', 'wb') as handler:\n",
        "    handler.write(img_data)"
      ],
      "metadata": {
        "colab": {
          "base_uri": "https://localhost:8080/"
        },
        "id": "gMHEAdP_wlt5",
        "outputId": "f7d86e8e-9403-4e0a-b082-47b2e4b3d1e8"
      },
      "execution_count": 5,
      "outputs": [
        {
          "output_type": "stream",
          "name": "stderr",
          "text": [
            "/usr/local/lib/python3.8/dist-packages/requests/__init__.py:89: RequestsDependencyWarning: urllib3 (1.26.13) or chardet (3.0.4) doesn't match a supported version!\n",
            "  warnings.warn(\"urllib3 ({}) or chardet ({}) doesn't match a supported \"\n"
          ]
        }
      ]
    },
    {
      "cell_type": "code",
      "source": [],
      "metadata": {
        "id": "lI9lNw7ixga_"
      },
      "execution_count": null,
      "outputs": []
    }
  ]
}